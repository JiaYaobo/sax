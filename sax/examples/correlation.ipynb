{
 "cells": [
  {
   "cell_type": "code",
   "execution_count": 57,
   "metadata": {},
   "outputs": [],
   "source": [
    "import jax\n",
    "import jax.numpy as jnp\n",
    "import jax.scipy as jsp\n",
    "import jax.tree_util as jtu\n",
    "import equinox as eqx\n",
    "\n",
    "from jax import jit\n",
    "from equinox import filter_jit\n",
    "\n",
    "import pandas as pd\n",
    "import numpy as np"
   ]
  },
  {
   "cell_type": "code",
   "execution_count": 67,
   "metadata": {},
   "outputs": [],
   "source": [
    "class Corr(eqx.Module):\n",
    "\n",
    "    def __init__(self) -> None:\n",
    "        super().__init__()\n",
    "\n",
    "    \n",
    "    def __call__(self, x1, x2, tolerance=1e-8):\n",
    "        nobs, k_yvar = x1.shape\n",
    "        nobs, k_xvar = x2.shape\n",
    "\n",
    "\n",
    "        k = np.min([k_yvar, k_xvar])\n",
    "\n",
    "        x = jnp.array(x1)\n",
    "        y = jnp.array(x2)\n",
    "\n",
    "        x = x - x.mean()\n",
    "        y = y - y.mean()\n",
    "\n",
    "        ux, sx, vx = jsp.linalg.svd(x, 0)\n",
    "        # vx_ds = vx.T divided by sx\n",
    "        vx_ds = vx.T\n",
    "        uy, sy, vy = jsp.linalg.svd(y, 0)\n",
    "        # vy_ds = vy.T divided by sy\n",
    "        vy_ds = vy.T\n",
    "        u, s, v = jsp.linalg.svd(ux.T.dot(uy), 0)\n",
    "\n",
    "        # Correct any roundoff\n",
    "        corr = jnp.array([jnp.maximum(0, jnp.minimum(s[i], 1)) for i in range(len(s))])\n",
    "\n",
    "        x_coef = vx_ds.dot(u[:, :k])\n",
    "        y_coef = vy_ds.dot(v.T[:, :k])\n",
    "\n",
    "        return (corr, x_coef, y_coef)"
   ]
  },
  {
   "cell_type": "code",
   "execution_count": 71,
   "metadata": {},
   "outputs": [],
   "source": [
    "corr = Corr()\n",
    "corr = filter_jit(corr)"
   ]
  },
  {
   "cell_type": "code",
   "execution_count": 5,
   "metadata": {},
   "outputs": [],
   "source": [
    "data_fit = pd.DataFrame([[191, 36, 50,  5, 162,  60],\n",
    "                         [189, 37, 52,  2, 110,  60],\n",
    "                         [193, 38, 58, 12, 101, 101],\n",
    "                         [162, 35, 62, 12, 105,  37],\n",
    "                         [189, 35, 46, 13, 155,  58],\n",
    "                         [182, 36, 56,  4, 101,  42],\n",
    "                         [211, 38, 56,  8, 101,  38],\n",
    "                         [167, 34, 60,  6, 125,  40],\n",
    "                         [176, 31, 74, 15, 200,  40],\n",
    "                         [154, 33, 56, 17, 251, 250],\n",
    "                         [169, 34, 50, 17, 120,  38],\n",
    "                         [166, 33, 52, 13, 210, 115],\n",
    "                         [154, 34, 64, 14, 215, 105],\n",
    "                         [247, 46, 50,  1,  50,  50],\n",
    "                         [193, 36, 46,  6,  70,  31],\n",
    "                         [202, 37, 62, 12, 210, 120],\n",
    "                         [176, 37, 54,  4,  60,  25],\n",
    "                         [157, 32, 52, 11, 230,  80],\n",
    "                         [156, 33, 54, 15, 225,  73],\n",
    "                         [138, 33, 68,  2, 110,  43]])"
   ]
  },
  {
   "cell_type": "code",
   "execution_count": 27,
   "metadata": {},
   "outputs": [],
   "source": [
    "X1 = data_fit.iloc[:, :3]\n",
    "Y1 = data_fit.iloc[:, 3:]"
   ]
  },
  {
   "cell_type": "code",
   "execution_count": 28,
   "metadata": {},
   "outputs": [
    {
     "data": {
      "text/html": [
       "<div>\n",
       "<style scoped>\n",
       "    .dataframe tbody tr th:only-of-type {\n",
       "        vertical-align: middle;\n",
       "    }\n",
       "\n",
       "    .dataframe tbody tr th {\n",
       "        vertical-align: top;\n",
       "    }\n",
       "\n",
       "    .dataframe thead th {\n",
       "        text-align: right;\n",
       "    }\n",
       "</style>\n",
       "<table border=\"1\" class=\"dataframe\">\n",
       "  <thead>\n",
       "    <tr style=\"text-align: right;\">\n",
       "      <th></th>\n",
       "      <th>0</th>\n",
       "      <th>1</th>\n",
       "      <th>2</th>\n",
       "    </tr>\n",
       "  </thead>\n",
       "  <tbody>\n",
       "    <tr>\n",
       "      <th>0</th>\n",
       "      <td>191</td>\n",
       "      <td>36</td>\n",
       "      <td>50</td>\n",
       "    </tr>\n",
       "    <tr>\n",
       "      <th>1</th>\n",
       "      <td>189</td>\n",
       "      <td>37</td>\n",
       "      <td>52</td>\n",
       "    </tr>\n",
       "    <tr>\n",
       "      <th>2</th>\n",
       "      <td>193</td>\n",
       "      <td>38</td>\n",
       "      <td>58</td>\n",
       "    </tr>\n",
       "    <tr>\n",
       "      <th>3</th>\n",
       "      <td>162</td>\n",
       "      <td>35</td>\n",
       "      <td>62</td>\n",
       "    </tr>\n",
       "    <tr>\n",
       "      <th>4</th>\n",
       "      <td>189</td>\n",
       "      <td>35</td>\n",
       "      <td>46</td>\n",
       "    </tr>\n",
       "    <tr>\n",
       "      <th>5</th>\n",
       "      <td>182</td>\n",
       "      <td>36</td>\n",
       "      <td>56</td>\n",
       "    </tr>\n",
       "    <tr>\n",
       "      <th>6</th>\n",
       "      <td>211</td>\n",
       "      <td>38</td>\n",
       "      <td>56</td>\n",
       "    </tr>\n",
       "    <tr>\n",
       "      <th>7</th>\n",
       "      <td>167</td>\n",
       "      <td>34</td>\n",
       "      <td>60</td>\n",
       "    </tr>\n",
       "    <tr>\n",
       "      <th>8</th>\n",
       "      <td>176</td>\n",
       "      <td>31</td>\n",
       "      <td>74</td>\n",
       "    </tr>\n",
       "    <tr>\n",
       "      <th>9</th>\n",
       "      <td>154</td>\n",
       "      <td>33</td>\n",
       "      <td>56</td>\n",
       "    </tr>\n",
       "    <tr>\n",
       "      <th>10</th>\n",
       "      <td>169</td>\n",
       "      <td>34</td>\n",
       "      <td>50</td>\n",
       "    </tr>\n",
       "    <tr>\n",
       "      <th>11</th>\n",
       "      <td>166</td>\n",
       "      <td>33</td>\n",
       "      <td>52</td>\n",
       "    </tr>\n",
       "    <tr>\n",
       "      <th>12</th>\n",
       "      <td>154</td>\n",
       "      <td>34</td>\n",
       "      <td>64</td>\n",
       "    </tr>\n",
       "    <tr>\n",
       "      <th>13</th>\n",
       "      <td>247</td>\n",
       "      <td>46</td>\n",
       "      <td>50</td>\n",
       "    </tr>\n",
       "    <tr>\n",
       "      <th>14</th>\n",
       "      <td>193</td>\n",
       "      <td>36</td>\n",
       "      <td>46</td>\n",
       "    </tr>\n",
       "    <tr>\n",
       "      <th>15</th>\n",
       "      <td>202</td>\n",
       "      <td>37</td>\n",
       "      <td>62</td>\n",
       "    </tr>\n",
       "    <tr>\n",
       "      <th>16</th>\n",
       "      <td>176</td>\n",
       "      <td>37</td>\n",
       "      <td>54</td>\n",
       "    </tr>\n",
       "    <tr>\n",
       "      <th>17</th>\n",
       "      <td>157</td>\n",
       "      <td>32</td>\n",
       "      <td>52</td>\n",
       "    </tr>\n",
       "    <tr>\n",
       "      <th>18</th>\n",
       "      <td>156</td>\n",
       "      <td>33</td>\n",
       "      <td>54</td>\n",
       "    </tr>\n",
       "    <tr>\n",
       "      <th>19</th>\n",
       "      <td>138</td>\n",
       "      <td>33</td>\n",
       "      <td>68</td>\n",
       "    </tr>\n",
       "  </tbody>\n",
       "</table>\n",
       "</div>"
      ],
      "text/plain": [
       "      0   1   2\n",
       "0   191  36  50\n",
       "1   189  37  52\n",
       "2   193  38  58\n",
       "3   162  35  62\n",
       "4   189  35  46\n",
       "5   182  36  56\n",
       "6   211  38  56\n",
       "7   167  34  60\n",
       "8   176  31  74\n",
       "9   154  33  56\n",
       "10  169  34  50\n",
       "11  166  33  52\n",
       "12  154  34  64\n",
       "13  247  46  50\n",
       "14  193  36  46\n",
       "15  202  37  62\n",
       "16  176  37  54\n",
       "17  157  32  52\n",
       "18  156  33  54\n",
       "19  138  33  68"
      ]
     },
     "execution_count": 28,
     "metadata": {},
     "output_type": "execute_result"
    }
   ],
   "source": [
    "X1"
   ]
  },
  {
   "cell_type": "code",
   "execution_count": 23,
   "metadata": {},
   "outputs": [
    {
     "data": {
      "text/plain": [
       "0     36\n",
       "1     37\n",
       "2     38\n",
       "3     35\n",
       "4     35\n",
       "5     36\n",
       "6     38\n",
       "7     34\n",
       "8     31\n",
       "9     33\n",
       "10    34\n",
       "11    33\n",
       "12    34\n",
       "13    46\n",
       "14    36\n",
       "15    37\n",
       "16    37\n",
       "17    32\n",
       "18    33\n",
       "19    33\n",
       "Name: 1, dtype: int64"
      ]
     },
     "execution_count": 23,
     "metadata": {},
     "output_type": "execute_result"
    }
   ],
   "source": [
    "Y1"
   ]
  },
  {
   "cell_type": "code",
   "execution_count": 49,
   "metadata": {},
   "outputs": [
    {
     "ename": "AttributeError",
     "evalue": "'DeviceArray' object has no attribute 'values'",
     "output_type": "error",
     "traceback": [
      "\u001b[0;31m---------------------------------------------------------------------------\u001b[0m",
      "\u001b[0;31mAttributeError\u001b[0m                            Traceback (most recent call last)",
      "Cell \u001b[0;32mIn [49], line 1\u001b[0m\n\u001b[0;32m----> 1\u001b[0m X1 \u001b[39m=\u001b[39m jnp\u001b[39m.\u001b[39marray(X1\u001b[39m.\u001b[39;49mvalues)\n\u001b[1;32m      2\u001b[0m Y1 \u001b[39m=\u001b[39m jnp\u001b[39m.\u001b[39marray(Y1\u001b[39m.\u001b[39mvalues)\n",
      "\u001b[0;31mAttributeError\u001b[0m: 'DeviceArray' object has no attribute 'values'"
     ]
    }
   ],
   "source": [
    "X1 = jnp.array(X1.values)\n",
    "Y1 = jnp.array(Y1.values)"
   ]
  },
  {
   "cell_type": "code",
   "execution_count": 73,
   "metadata": {},
   "outputs": [
    {
     "data": {
      "text/plain": [
       "(DeviceArray([0.99824905, 0.57590914, 0.10912246], dtype=float32),\n",
       " DeviceArray([[ 0.71565455, -0.62773484, -0.3062479 ],\n",
       "              [-0.6252215 , -0.7712071 ,  0.11974222],\n",
       "              [-0.3113469 ,  0.10577868, -0.94439083]], dtype=float32),\n",
       " DeviceArray([[-0.83292174,  0.5427195 , -0.10815209],\n",
       "              [ 0.5409459 ,  0.839704  ,  0.04769456],\n",
       "              [-0.11670046,  0.01877867,  0.99298966]], dtype=float32))"
      ]
     },
     "execution_count": 73,
     "metadata": {},
     "output_type": "execute_result"
    }
   ],
   "source": [
    "corr(X1, Y1)"
   ]
  },
  {
   "cell_type": "code",
   "execution_count": 80,
   "metadata": {},
   "outputs": [
    {
     "name": "stdout",
     "output_type": "stream",
     "text": [
      "113 µs ± 53.8 µs per loop (mean ± std. dev. of 3 runs, 10 loops each)\n"
     ]
    }
   ],
   "source": [
    "%timeit -n10 -r3 corr(X1, Y1)"
   ]
  },
  {
   "cell_type": "code",
   "execution_count": 31,
   "metadata": {},
   "outputs": [],
   "source": [
    "from statsmodels.multivariate import cancorr"
   ]
  },
  {
   "cell_type": "code",
   "execution_count": 34,
   "metadata": {},
   "outputs": [
    {
     "name": "stdout",
     "output_type": "stream",
     "text": [
      "244 µs ± 94.5 µs per loop (mean ± std. dev. of 3 runs, 10 loops each)\n"
     ]
    }
   ],
   "source": [
    "%timeit -n10 -r3 cancorr.CanCorr(X1, Y1)._fit()"
   ]
  }
 ],
 "metadata": {
  "kernelspec": {
   "display_name": "Python 3.10.4 ('jax')",
   "language": "python",
   "name": "python3"
  },
  "language_info": {
   "codemirror_mode": {
    "name": "ipython",
    "version": 3
   },
   "file_extension": ".py",
   "mimetype": "text/x-python",
   "name": "python",
   "nbconvert_exporter": "python",
   "pygments_lexer": "ipython3",
   "version": "3.10.4"
  },
  "orig_nbformat": 4,
  "vscode": {
   "interpreter": {
    "hash": "a2c665fbd5f95b4b64cbe21597f07e9f3c92fb5d50ee72a44a582f43dea1d555"
   }
  }
 },
 "nbformat": 4,
 "nbformat_minor": 2
}
