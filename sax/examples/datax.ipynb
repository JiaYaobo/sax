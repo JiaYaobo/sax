{
 "cells": [
  {
   "cell_type": "code",
   "execution_count": 4,
   "metadata": {},
   "outputs": [],
   "source": [
    "import jax\n",
    "import equinox\n",
    "\n",
    "\n",
    "import pandas as pd\n",
    "\n",
    "from polars import DataFrame\n",
    "\n",
    "\n",
    "class DataX(DataFrame):\n",
    "\n",
    "    def __init__(self, *args, **kwargs) -> None:\n",
    "        super(DataX, self).__init__(*args, **kwargs)    \n",
    "    def __rshift__(self, func):\n",
    "        self._fun_tree.append(func)\n",
    "\n",
    "    \n",
    "    "
   ]
  },
  {
   "cell_type": "code",
   "execution_count": 2,
   "metadata": {},
   "outputs": [],
   "source": [
    "data_fit = pd.DataFrame([[191, 36, 50,  5, 162,  60],\n",
    "                         [189, 37, 52,  2, 110,  60],\n",
    "                         [193, 38, 58, 12, 101, 101],\n",
    "                         [162, 35, 62, 12, 105,  37],\n",
    "                         [189, 35, 46, 13, 155,  58],\n",
    "                         [182, 36, 56,  4, 101,  42],\n",
    "                         [211, 38, 56,  8, 101,  38],\n",
    "                         [167, 34, 60,  6, 125,  40],\n",
    "                         [176, 31, 74, 15, 200,  40],\n",
    "                         [154, 33, 56, 17, 251, 250],\n",
    "                         [169, 34, 50, 17, 120,  38],\n",
    "                         [166, 33, 52, 13, 210, 115],\n",
    "                         [154, 34, 64, 14, 215, 105],\n",
    "                         [247, 46, 50,  1,  50,  50],\n",
    "                         [193, 36, 46,  6,  70,  31],\n",
    "                         [202, 37, 62, 12, 210, 120],\n",
    "                         [176, 37, 54,  4,  60,  25],\n",
    "                         [157, 32, 52, 11, 230,  80],\n",
    "                         [156, 33, 54, 15, 225,  73],\n",
    "                         [138, 33, 68,  2, 110,  43]])"
   ]
  },
  {
   "cell_type": "code",
   "execution_count": 5,
   "metadata": {},
   "outputs": [],
   "source": [
    "dtx = DataX([[191, 36, 50,  5, 162,  60],\n",
    "                         [189, 37, 52,  2, 110,  60],\n",
    "                         [193, 38, 58, 12, 101, 101],\n",
    "                         [162, 35, 62, 12, 105,  37],\n",
    "                         [189, 35, 46, 13, 155,  58],\n",
    "                         [182, 36, 56,  4, 101,  42],\n",
    "                         [211, 38, 56,  8, 101,  38],\n",
    "                         [167, 34, 60,  6, 125,  40],\n",
    "                         [176, 31, 74, 15, 200,  40],\n",
    "                         [154, 33, 56, 17, 251, 250],\n",
    "                         [169, 34, 50, 17, 120,  38],\n",
    "                         [166, 33, 52, 13, 210, 115],\n",
    "                         [154, 34, 64, 14, 215, 105],\n",
    "                         [247, 46, 50,  1,  50,  50],\n",
    "                         [193, 36, 46,  6,  70,  31],\n",
    "                         [202, 37, 62, 12, 210, 120],\n",
    "                         [176, 37, 54,  4,  60,  25],\n",
    "                         [157, 32, 52, 11, 230,  80],\n",
    "                         [156, 33, 54, 15, 225,  73],\n",
    "                         [138, 33, 68,  2, 110,  43]])"
   ]
  },
  {
   "cell_type": "code",
   "execution_count": 9,
   "metadata": {},
   "outputs": [],
   "source": [
    "@jax.jit\n",
    "def func(x):\n",
    "    return x"
   ]
  },
  {
   "cell_type": "code",
   "execution_count": 17,
   "metadata": {},
   "outputs": [
    {
     "data": {
      "text/plain": [
       "[<CompiledFunction of <function func at 0x288e8a4d0>>]"
      ]
     },
     "execution_count": 17,
     "metadata": {},
     "output_type": "execute_result"
    }
   ],
   "source": [
    "dtx._fun_tree"
   ]
  },
  {
   "cell_type": "code",
   "execution_count": 13,
   "metadata": {},
   "outputs": [
    {
     "data": {
      "text/plain": [
       "(6, 20)"
      ]
     },
     "execution_count": 13,
     "metadata": {},
     "output_type": "execute_result"
    }
   ],
   "source": [
    "dtx.shape"
   ]
  },
  {
   "cell_type": "code",
   "execution_count": 16,
   "metadata": {},
   "outputs": [
    {
     "ename": "AttributeError",
     "evalue": "'DataX' object has no attribute '_fun_tree'",
     "output_type": "error",
     "traceback": [
      "\u001B[0;31m---------------------------------------------------------------------------\u001B[0m",
      "\u001B[0;31mAttributeError\u001B[0m                            Traceback (most recent call last)",
      "Cell \u001B[0;32mIn [16], line 1\u001B[0m\n\u001B[0;32m----> 1\u001B[0m dtx\u001B[39m.\u001B[39;49mselect(\u001B[39m'\u001B[39;49m\u001B[39mcolumn_0\u001B[39;49m\u001B[39m'\u001B[39;49m)\u001B[39m.\u001B[39;49m_fun_tree\n",
      "\u001B[0;31mAttributeError\u001B[0m: 'DataX' object has no attribute '_fun_tree'"
     ]
    }
   ],
   "source": [
    "dtx.select('column_0')._fun_tree"
   ]
  },
  {
   "cell_type": "code",
   "execution_count": 11,
   "metadata": {},
   "outputs": [
    {
     "data": {
      "text/plain": [
       "[<CompiledFunction of <function func at 0x288e8a4d0>>]"
      ]
     },
     "execution_count": 11,
     "metadata": {},
     "output_type": "execute_result"
    }
   ],
   "source": [
    "dtx._fun_tree"
   ]
  },
  {
   "cell_type": "code",
   "execution_count": 1,
   "metadata": {},
   "outputs": [],
   "source": [
    "import numpy as np"
   ]
  },
  {
   "cell_type": "code",
   "execution_count": 2,
   "outputs": [
    {
     "ename": "TypeError",
     "evalue": "unsupported operand type(s) for +: 'int' and 'NoneType'",
     "output_type": "error",
     "traceback": [
      "\u001B[0;31m---------------------------------------------------------------------------\u001B[0m",
      "\u001B[0;31mTypeError\u001B[0m                                 Traceback (most recent call last)",
      "Cell \u001B[0;32mIn [2], line 1\u001B[0m\n\u001B[0;32m----> 1\u001B[0m \u001B[43mnp\u001B[49m\u001B[38;5;241;43m.\u001B[39;49m\u001B[43marray\u001B[49m\u001B[43m(\u001B[49m\u001B[38;5;241;43m1\u001B[39;49m\u001B[43m)\u001B[49m\u001B[43m \u001B[49m\u001B[38;5;241;43m+\u001B[39;49m\u001B[43m \u001B[49m\u001B[38;5;28;43;01mNone\u001B[39;49;00m\n",
      "\u001B[0;31mTypeError\u001B[0m: unsupported operand type(s) for +: 'int' and 'NoneType'"
     ]
    }
   ],
   "source": [
    "np.array(1) + None"
   ],
   "metadata": {
    "collapsed": false
   }
  }
 ],
 "metadata": {
  "kernelspec": {
   "display_name": "Python 3.10.4 ('jax')",
   "language": "python",
   "name": "python3"
  },
  "language_info": {
   "codemirror_mode": {
    "name": "ipython",
    "version": 3
   },
   "file_extension": ".py",
   "mimetype": "text/x-python",
   "name": "python",
   "nbconvert_exporter": "python",
   "pygments_lexer": "ipython3",
   "version": "3.10.4"
  },
  "orig_nbformat": 4,
  "vscode": {
   "interpreter": {
    "hash": "a2c665fbd5f95b4b64cbe21597f07e9f3c92fb5d50ee72a44a582f43dea1d555"
   }
  }
 },
 "nbformat": 4,
 "nbformat_minor": 2
}
