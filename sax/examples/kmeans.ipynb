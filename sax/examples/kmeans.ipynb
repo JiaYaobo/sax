{
 "cells": [
  {
   "cell_type": "code",
   "execution_count": 5,
   "metadata": {
    "collapsed": true
   },
   "outputs": [],
   "source": [
    "from sklearn.metrics import euclidean_distances\n",
    "import numpy as np"
   ]
  },
  {
   "cell_type": "code",
   "execution_count": 2,
   "outputs": [],
   "source": [
    "a = np.array([[1, 0], [0,1]], dtype=np.float32)\n"
   ],
   "metadata": {
    "collapsed": false
   }
  },
  {
   "cell_type": "code",
   "execution_count": 108,
   "outputs": [],
   "source": [
    "X = np.ones([2, 100])\n",
    "Y = np.zeros([1, 100])"
   ],
   "metadata": {
    "collapsed": false
   }
  },
  {
   "cell_type": "code",
   "execution_count": 8,
   "outputs": [
    {
     "data": {
      "text/plain": "array([[3.74165739]])"
     },
     "execution_count": 8,
     "metadata": {},
     "output_type": "execute_result"
    }
   ],
   "source": [
    "euclidean_distances(X, Y)"
   ],
   "metadata": {
    "collapsed": false
   }
  },
  {
   "cell_type": "code",
   "execution_count": 14,
   "outputs": [
    {
     "data": {
      "text/plain": "3.7416573867739413"
     },
     "execution_count": 14,
     "metadata": {},
     "output_type": "execute_result"
    }
   ],
   "source": [
    "14 / np.sqrt(14)"
   ],
   "metadata": {
    "collapsed": false
   }
  },
  {
   "cell_type": "code",
   "execution_count": 15,
   "outputs": [],
   "source": [
    "import jax\n",
    "import jax.numpy as jnp\n",
    "\n",
    "import equinox as eqx\n",
    "from equinox.jit import filter_jit\n",
    "\n",
    "import numpy as np\n",
    "\n",
    "\n",
    "def _row_norms(X, squared=False):\n",
    "    norms = jnp.einsum('ij, ij->i', X, X)\n",
    "\n",
    "    if not squared:\n",
    "        norms = jnp.sqrt(norms)\n",
    "\n",
    "    return norms"
   ],
   "metadata": {
    "collapsed": false
   }
  },
  {
   "cell_type": "code",
   "execution_count": 17,
   "outputs": [
    {
     "data": {
      "text/plain": "DeviceArray([14], dtype=int32)"
     },
     "execution_count": 17,
     "metadata": {},
     "output_type": "execute_result"
    }
   ],
   "source": [
    "_row_norms(X, squared=True)"
   ],
   "metadata": {
    "collapsed": false
   }
  },
  {
   "cell_type": "code",
   "execution_count": 18,
   "outputs": [],
   "source": [
    "from sklearn.utils.extmath import row_norms"
   ],
   "metadata": {
    "collapsed": false
   }
  },
  {
   "cell_type": "code",
   "execution_count": 22,
   "outputs": [
    {
     "data": {
      "text/plain": "array([14.])"
     },
     "execution_count": 22,
     "metadata": {},
     "output_type": "execute_result"
    }
   ],
   "source": [
    "row_norms(X, squared=True)"
   ],
   "metadata": {
    "collapsed": false
   }
  },
  {
   "cell_type": "code",
   "execution_count": 24,
   "outputs": [
    {
     "ename": "TypeError",
     "evalue": "_one_to_one_binop.<locals>.<lambda>() got an unexpected keyword argument 'out'",
     "output_type": "error",
     "traceback": [
      "\u001B[0;31m---------------------------------------------------------------------------\u001B[0m",
      "\u001B[0;31mTypeError\u001B[0m                                 Traceback (most recent call last)",
      "Cell \u001B[0;32mIn [24], line 1\u001B[0m\n\u001B[0;32m----> 1\u001B[0m \u001B[43mjnp\u001B[49m\u001B[38;5;241;43m.\u001B[39;49m\u001B[43mmaximum\u001B[49m\u001B[43m(\u001B[49m\u001B[43mX\u001B[49m\u001B[43m,\u001B[49m\u001B[43m \u001B[49m\u001B[38;5;241;43m0\u001B[39;49m\u001B[43m,\u001B[49m\u001B[43m \u001B[49m\u001B[43mout\u001B[49m\u001B[38;5;241;43m=\u001B[39;49m\u001B[43mX\u001B[49m\u001B[43m)\u001B[49m\n",
      "    \u001B[0;31m[... skipping hidden 13 frame]\u001B[0m\n",
      "File \u001B[0;32m/opt/miniconda3/envs/jax/lib/python3.10/site-packages/jax/linear_util.py:168\u001B[0m, in \u001B[0;36mWrappedFun.call_wrapped\u001B[0;34m(self, *args, **kwargs)\u001B[0m\n\u001B[1;32m    165\u001B[0m gen \u001B[38;5;241m=\u001B[39m gen_static_args \u001B[38;5;241m=\u001B[39m out_store \u001B[38;5;241m=\u001B[39m \u001B[38;5;28;01mNone\u001B[39;00m\n\u001B[1;32m    167\u001B[0m \u001B[38;5;28;01mtry\u001B[39;00m:\n\u001B[0;32m--> 168\u001B[0m   ans \u001B[38;5;241m=\u001B[39m \u001B[38;5;28;43mself\u001B[39;49m\u001B[38;5;241;43m.\u001B[39;49m\u001B[43mf\u001B[49m\u001B[43m(\u001B[49m\u001B[38;5;241;43m*\u001B[39;49m\u001B[43margs\u001B[49m\u001B[43m,\u001B[49m\u001B[43m \u001B[49m\u001B[38;5;241;43m*\u001B[39;49m\u001B[38;5;241;43m*\u001B[39;49m\u001B[38;5;28;43mdict\u001B[39;49m\u001B[43m(\u001B[49m\u001B[38;5;28;43mself\u001B[39;49m\u001B[38;5;241;43m.\u001B[39;49m\u001B[43mparams\u001B[49m\u001B[43m,\u001B[49m\u001B[43m \u001B[49m\u001B[38;5;241;43m*\u001B[39;49m\u001B[38;5;241;43m*\u001B[39;49m\u001B[43mkwargs\u001B[49m\u001B[43m)\u001B[49m\u001B[43m)\u001B[49m\n\u001B[1;32m    169\u001B[0m \u001B[38;5;28;01mexcept\u001B[39;00m:\n\u001B[1;32m    170\u001B[0m   \u001B[38;5;66;03m# Some transformations yield from inside context managers, so we have to\u001B[39;00m\n\u001B[1;32m    171\u001B[0m   \u001B[38;5;66;03m# interrupt them before reraising the exception. Otherwise they will only\u001B[39;00m\n\u001B[1;32m    172\u001B[0m   \u001B[38;5;66;03m# get garbage-collected at some later time, running their cleanup tasks\u001B[39;00m\n\u001B[1;32m    173\u001B[0m   \u001B[38;5;66;03m# only after this exception is handled, which can corrupt the global\u001B[39;00m\n\u001B[1;32m    174\u001B[0m   \u001B[38;5;66;03m# state.\u001B[39;00m\n\u001B[1;32m    175\u001B[0m   \u001B[38;5;28;01mwhile\u001B[39;00m stack:\n",
      "\u001B[0;31mTypeError\u001B[0m: _one_to_one_binop.<locals>.<lambda>() got an unexpected keyword argument 'out'"
     ]
    }
   ],
   "source": [
    "jnp.maximum(X, 0, out=X)"
   ],
   "metadata": {
    "collapsed": false
   }
  },
  {
   "cell_type": "code",
   "execution_count": 62,
   "outputs": [],
   "source": [
    "from functools import partial"
   ],
   "metadata": {
    "collapsed": false
   }
  },
  {
   "cell_type": "code",
   "execution_count": 77,
   "outputs": [],
   "source": [
    "@partial(jax.jit, static_argnums=[1])\n",
    "def _row_norms(x, squared=False):\n",
    "    norms = jnp.einsum('ij, ij->i', x, x)\n",
    "\n",
    "    if not squared:\n",
    "        norms = jnp.sqrt(norms)\n",
    "    return norms\n",
    "\n",
    "\n",
    "@partial(jax.jit, static_argnums=[2, 3, 4])\n",
    "def _euclidean_distances(x, y, x_norm_squared=None, y_norm_squared=None, squared=False):\n",
    "    \"\"\"Computational part of euclidean_distances\n",
    "\n",
    "    Assumes inputs are already checked.\n",
    "\n",
    "    If norms are passed as float32, they are unused. If arrays are passed as\n",
    "    float32, norms needs to be recomputed on upcast chunks.\n",
    "    \"\"\"\n",
    "    if x_norm_squared is not None:\n",
    "        xx = x_norm_squared.reshape(-1, 1)\n",
    "    else:\n",
    "        xx = _row_norms(x, squared=True)[:, jnp.newaxis]\n",
    "\n",
    "    if y is x:\n",
    "        yy = xx.T\n",
    "    else:\n",
    "        if y_norm_squared is not None:\n",
    "            yy = y_norm_squared.reshape(1, -1)\n",
    "        else:\n",
    "            yy = _row_norms(y, squared=True)[jnp.newaxis, :]\n",
    "\n",
    "    distances = -2 * jnp.dot(x, y.T)\n",
    "    distances += xx\n",
    "    distances += yy\n",
    "    distances = jnp.maximum(distances, 0)\n",
    "\n",
    "    if squared:\n",
    "        return distances\n",
    "    else:\n",
    "        return jnp.sqrt(distances)"
   ],
   "metadata": {
    "collapsed": false
   }
  },
  {
   "cell_type": "code",
   "execution_count": 64,
   "outputs": [
    {
     "data": {
      "text/plain": "DeviceArray([[10.]], dtype=float32)"
     },
     "execution_count": 64,
     "metadata": {},
     "output_type": "execute_result"
    }
   ],
   "source": [
    "_euclidean_distances(X, Y)"
   ],
   "metadata": {
    "collapsed": false
   }
  },
  {
   "cell_type": "code",
   "execution_count": 87,
   "outputs": [],
   "source": [
    "import jax.random as jrand\n",
    "from jax import lax"
   ],
   "metadata": {
    "collapsed": false
   }
  },
  {
   "cell_type": "code",
   "execution_count": 276,
   "outputs": [],
   "source": [
    "@partial(jax.jit, static_argnums=[1, 2])\n",
    "def _kmeans_plusplus(x, n_clusters, x_squared_norms=None, *, key=None):\n",
    "\n",
    "    x = jnp.asarray(x)\n",
    "\n",
    "    n_samples, n_features = x.shape\n",
    "\n",
    "    centers = jnp.zeros((n_clusters, n_features))\n",
    "\n",
    "    center_id = jrand.randint(key, (1, ), minval=0, maxval=n_samples)[0]\n",
    "    indices = jnp.full((n_clusters, ), -1, dtype=jnp.int32)\n",
    "\n",
    "    centers = centers.at[0].set(x[center_id])\n",
    "    indices = indices.at[0].set(center_id)\n",
    "\n",
    "    closest_dist_sq = _euclidean_distances(centers[0, jnp.newaxis],\n",
    "                                           x,\n",
    "                                           y_norm_squared=x_squared_norms,\n",
    "                                           squared=True)\n",
    "\n",
    "    current_pot = closest_dist_sq.sum()\n",
    "\n",
    "    def _step(carry, inp=None):\n",
    "        (i, _centers, _indices, _current_pot, _closest_dist_sq) = carry\n",
    "\n",
    "        rand_vals = jrand.uniform(key=key, shape=(n_clusters + 2, )) * _current_pot\n",
    "\n",
    "        candidate_ids = jnp.searchsorted(jnp.cumsum(_closest_dist_sq), rand_vals)\n",
    "\n",
    "        candidate_ids = jnp.clip(candidate_ids, None, _closest_dist_sq.size - 1)\n",
    "\n",
    "        # Compute distances to center candidates\n",
    "        distance_to_candidates = _euclidean_distances(\n",
    "            x[candidate_ids], x, y_norm_squared=x_squared_norms, squared=True\n",
    "        )\n",
    "\n",
    "        distance_to_candidates = jnp.minimum(_closest_dist_sq, distance_to_candidates)\n",
    "        candidates_pot = distance_to_candidates.sum(axis=1)\n",
    "\n",
    "        # Decide which candidate is the best\n",
    "        best_candidate = jnp.argmin(candidates_pot)\n",
    "        _current_pot = candidates_pot[best_candidate]\n",
    "        _closest_dist_sq = distance_to_candidates[best_candidate]\n",
    "        best_candidate = candidate_ids[best_candidate]\n",
    "\n",
    "        _centers = _centers.at[i].set(x[best_candidate])\n",
    "        _indices = _indices.at[i].set(best_candidate)\n",
    "\n",
    "        carry = (i + 1, _centers, _indices, _current_pot, _closest_dist_sq)\n",
    "\n",
    "        return carry, (_centers, _indices)\n",
    "\n",
    "    init = (1, centers, indices, current_pot, closest_dist_sq[0])\n",
    "    _, (centers, indices) =  lax.scan(_step, init, xs=None, length=n_clusters - 1)\n",
    "\n",
    "    return centers, indices"
   ],
   "metadata": {
    "collapsed": false
   }
  },
  {
   "cell_type": "code",
   "execution_count": 277,
   "outputs": [],
   "source": [
    "X = np.array([[1., 2.], [1., 4.], [1., 0.],\n",
    "               [10., 2.], [10., 4.], [10., 0.]])"
   ],
   "metadata": {
    "collapsed": false
   }
  },
  {
   "cell_type": "code",
   "execution_count": 238,
   "outputs": [],
   "source": [
    "key = jrand.PRNGKey(0)"
   ],
   "metadata": {
    "collapsed": false
   }
  },
  {
   "cell_type": "code",
   "execution_count": 281,
   "outputs": [
    {
     "data": {
      "text/plain": "(DeviceArray([[[10.,  4.],\n               [ 1.,  2.]]], dtype=float32),\n DeviceArray([[4, 0]], dtype=int32))"
     },
     "execution_count": 281,
     "metadata": {},
     "output_type": "execute_result"
    }
   ],
   "source": [
    "_kmeans_plusplus(X, 2, key=jrand.PRNGKey(1024))"
   ],
   "metadata": {
    "collapsed": false
   }
  },
  {
   "cell_type": "code",
   "execution_count": 79,
   "outputs": [
    {
     "name": "stdout",
     "output_type": "stream",
     "text": [
      "6.55 µs ± 2.97 µs per loop (mean ± std. dev. of 3 runs, 100 loops each)\n"
     ]
    }
   ],
   "source": [
    "%timeit -n100 -r3 _euclidean_distances(X, Y)"
   ],
   "metadata": {
    "collapsed": false
   }
  },
  {
   "cell_type": "code",
   "execution_count": 75,
   "outputs": [
    {
     "name": "stdout",
     "output_type": "stream",
     "text": [
      "29 µs ± 1.32 µs per loop (mean ± std. dev. of 3 runs, 100 loops each)\n"
     ]
    }
   ],
   "source": [
    "%timeit -n100 -r3 euclidean_distances(X, Y)"
   ],
   "metadata": {
    "collapsed": false
   }
  },
  {
   "cell_type": "code",
   "execution_count": 83,
   "outputs": [],
   "source": [
    "z = jnp.array(X)"
   ],
   "metadata": {
    "collapsed": false
   }
  },
  {
   "cell_type": "code",
   "execution_count": 84,
   "outputs": [
    {
     "data": {
      "text/plain": "100"
     },
     "execution_count": 84,
     "metadata": {},
     "output_type": "execute_result"
    }
   ],
   "source": [
    "z.size"
   ],
   "metadata": {
    "collapsed": false
   }
  },
  {
   "cell_type": "code",
   "execution_count": 137,
   "outputs": [
    {
     "data": {
      "text/plain": "DeviceArray([0.21629536, 0.8041241 ], dtype=float32)"
     },
     "execution_count": 137,
     "metadata": {},
     "output_type": "execute_result"
    }
   ],
   "source": [
    "jrand.uniform(key=key, shape=(2, ))"
   ],
   "metadata": {
    "collapsed": false
   }
  }
 ],
 "metadata": {
  "kernelspec": {
   "display_name": "Python 3",
   "language": "python",
   "name": "python3"
  },
  "language_info": {
   "codemirror_mode": {
    "name": "ipython",
    "version": 2
   },
   "file_extension": ".py",
   "mimetype": "text/x-python",
   "name": "python",
   "nbconvert_exporter": "python",
   "pygments_lexer": "ipython2",
   "version": "2.7.6"
  }
 },
 "nbformat": 4,
 "nbformat_minor": 0
}
