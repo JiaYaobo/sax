{
 "cells": [
  {
   "cell_type": "code",
   "execution_count": 1,
   "metadata": {},
   "outputs": [],
   "source": [
    "import functools as ft\n",
    "import math\n",
    "\n",
    "import numpy as np\n",
    "\n",
    "import jax\n",
    "from jax import jit, lax, vmap\n",
    "import jax.numpy as jnp\n",
    "import jax.random as jrand\n",
    "import tensorflow_probability.substrates.jax.distributions as jd\n",
    "\n",
    "from sklearn.cluster._kmeans import kmeans_plusplus"
   ]
  },
  {
   "cell_type": "code",
   "execution_count": 2,
   "metadata": {},
   "outputs": [],
   "source": [
    "\n",
    "@ft.partial(jit, static_argnums=[1])\n",
    "def _row_norms(x, squared=False):\n",
    "    norms = jnp.einsum('ij, ij->i', x, x)\n",
    "\n",
    "    if not squared:\n",
    "        norms = jnp.sqrt(norms)\n",
    "    return norms"
   ]
  },
  {
   "cell_type": "code",
   "execution_count": 3,
   "metadata": {},
   "outputs": [],
   "source": [
    "@ft.partial(jit, static_argnums=[2, 3, 4])\n",
    "def _euclidean_distances(x, y, x_norm_squared=None, y_norm_squared=None, squared=False):\n",
    "    \"\"\"Computational part of euclidean_distances\n",
    "\n",
    "    Assumes inputs are already checked.\n",
    "\n",
    "    If norms are passed as float32, they are unused. If arrays are passed as\n",
    "    float32, norms needs to be recomputed on upcast chunks.\n",
    "    \"\"\"\n",
    "    if x_norm_squared is not None:\n",
    "        xx = x_norm_squared.reshape(-1, 1)\n",
    "    else:\n",
    "        xx = _row_norms(x, squared=True)[:, jnp.newaxis]\n",
    "\n",
    "    if y is x:\n",
    "        yy = xx.T\n",
    "    else:\n",
    "        if y_norm_squared is not None:\n",
    "            yy = y_norm_squared.reshape(1, -1)\n",
    "        else:\n",
    "            yy = _row_norms(y, squared=True)[jnp.newaxis, :]\n",
    "\n",
    "    distances = -2 * jnp.dot(x, y.T)\n",
    "    distances += xx\n",
    "    distances += yy\n",
    "    distances = jnp.maximum(distances, 0)\n",
    "\n",
    "    if squared:\n",
    "        return distances\n",
    "    else:\n",
    "        return jnp.sqrt(distances)"
   ]
  },
  {
   "cell_type": "code",
   "execution_count": 4,
   "metadata": {},
   "outputs": [],
   "source": [
    "@ft.partial(jit, static_argnums=[1, 2])\n",
    "def _kmeans_plusplus(x, n_clusters, x_squared_norms=None, *, key=None):\n",
    "    n_samples, n_features = x.shape\n",
    "\n",
    "    n_clusters = min(n_samples, n_clusters)\n",
    "\n",
    "    k0, k1 = jrand.split(key)\n",
    "\n",
    "    def euclidean_distance_square(x, y):\n",
    "        return jnp.square(x - y).sum(axis=-1)\n",
    "\n",
    "    center_id = jrand.randint(k0, (1,), minval=0, maxval=n_samples)[0]\n",
    "\n",
    "    initial_center = x[center_id]\n",
    "\n",
    "    initial_indice = center_id\n",
    "\n",
    "    initial_closest_dist_sq = euclidean_distance_square(x[center_id], x)\n",
    "\n",
    "\n",
    "    current_pot = initial_closest_dist_sq.sum()\n",
    "\n",
    "    def _step(carry, inp=None):\n",
    "        (_current_pot, _closest_dist_sq, key) = carry\n",
    "\n",
    "        k0, k1 = jrand.split(key)\n",
    "\n",
    "        candidate_ids = jd.Categorical(logits=jnp.log(_closest_dist_sq)).sample(\n",
    "            seed=k0, sample_shape=(int(math.log(n_clusters) + 2), ))\n",
    "\n",
    "        # rand_vals = jrand.uniform(key=key, shape=(\n",
    "        #     int(math.log(n_clusters)) + 2,)) * _current_pot\n",
    "\n",
    "        # candidate_ids = jnp.searchsorted(\n",
    "        #     jnp.cumsum(_closest_dist_sq), rand_vals)\n",
    "\n",
    "        candidate_ids = jnp.clip(\n",
    "            candidate_ids, a_max=n_samples - 1)\n",
    "\n",
    "        # Compute distances to center candidates\n",
    "        distance_to_candidates = vmap(lambda x, y: euclidean_distance_square(x, y),\n",
    "                                      in_axes=(0, None))(x[candidate_ids], x)\n",
    "        # distance_to_candidates = vmap(lambda x, y: _euclidean_distances(x, y),\n",
    "        #                               in_axes=(None, 0))(x[candidate_ids], x)\n",
    "\n",
    "        # distance_to_candidates = _euclidean_distances(\n",
    "        #     x[candidate_ids], x, y_norm_squared=x_squared_norms, squared=True\n",
    "        # )\n",
    "\n",
    "        distance_to_candidates = vmap(jnp.minimum, in_axes=(0, None))(\n",
    "            distance_to_candidates, _closest_dist_sq)\n",
    "\n",
    "        # distance_to_candidates = jnp.minimum(\n",
    "        #     _closest_dist_sq, distance_to_candidates)\n",
    "        candidates_pot = distance_to_candidates.sum(axis=-1)\n",
    "\n",
    "        # Decide which candidate is the best\n",
    "        best_candidate = jnp.argmin(candidates_pot)\n",
    "        _current_pot = candidates_pot[best_candidate]\n",
    "        _closest_dist_sq = distance_to_candidates[best_candidate]\n",
    "        best_candidate = candidate_ids[best_candidate]\n",
    "\n",
    "        carry = (_current_pot, _closest_dist_sq, k1)\n",
    "\n",
    "        return carry, (x[best_candidate], best_candidate)\n",
    "\n",
    "    init = (current_pot, initial_closest_dist_sq, k1)\n",
    "    _, (centers, indices) = lax.scan(\n",
    "        _step, init, xs=None, length=n_clusters - 1)\n",
    "\n",
    "    centers = jnp.vstack([initial_center, centers])\n",
    "    indices = jnp.vstack([initial_indice, indices])\n",
    "\n",
    "    return centers, indices"
   ]
  },
  {
   "cell_type": "code",
   "execution_count": 36,
   "metadata": {},
   "outputs": [],
   "source": [
    "X = np.array([[1., 2.], [1., 4.], [1., 0.],\n",
    "            [10., 2.], [10., 4.], [10., 0.]])"
   ]
  },
  {
   "cell_type": "code",
   "execution_count": null,
   "metadata": {},
   "outputs": [],
   "source": []
  },
  {
   "cell_type": "code",
   "execution_count": 5,
   "metadata": {},
   "outputs": [],
   "source": [
    "k = jrand.PRNGKey(0)"
   ]
  },
  {
   "cell_type": "code",
   "execution_count": 6,
   "metadata": {},
   "outputs": [],
   "source": [
    "X = jrand.normal(k, shape=(1000, 100)) * 10."
   ]
  },
  {
   "cell_type": "code",
   "execution_count": 14,
   "metadata": {},
   "outputs": [
    {
     "name": "stdout",
     "output_type": "stream",
     "text": [
      "151 µs ± 4.41 µs per loop (mean ± std. dev. of 10 runs, 100 loops each)\n"
     ]
    }
   ],
   "source": [
    "%timeit -n100 -r10 _kmeans_plusplus(X, 2, key=k)"
   ]
  },
  {
   "cell_type": "code",
   "execution_count": 15,
   "metadata": {},
   "outputs": [
    {
     "name": "stdout",
     "output_type": "stream",
     "text": [
      "5.64 ms ± 389 µs per loop (mean ± std. dev. of 10 runs, 100 loops each)\n"
     ]
    }
   ],
   "source": [
    "%timeit -n100 -r10 kmeans_plusplus(np.array(X), 2)"
   ]
  }
 ],
 "metadata": {
  "kernelspec": {
   "display_name": "Python 3.10.4 ('jax')",
   "language": "python",
   "name": "python3"
  },
  "language_info": {
   "codemirror_mode": {
    "name": "ipython",
    "version": 3
   },
   "file_extension": ".py",
   "mimetype": "text/x-python",
   "name": "python",
   "nbconvert_exporter": "python",
   "pygments_lexer": "ipython3",
   "version": "3.10.4"
  },
  "orig_nbformat": 4,
  "vscode": {
   "interpreter": {
    "hash": "a2c665fbd5f95b4b64cbe21597f07e9f3c92fb5d50ee72a44a582f43dea1d555"
   }
  }
 },
 "nbformat": 4,
 "nbformat_minor": 2
}
