{
 "cells": [
  {
   "cell_type": "code",
   "execution_count": 1,
   "metadata": {},
   "outputs": [
    {
     "ename": "ImportError",
     "evalue": "cannot import name 'betainc' from 'numpyro.distributions.util' (/opt/miniconda3/envs/jax/lib/python3.10/site-packages/numpyro/distributions/util.py)",
     "output_type": "error",
     "traceback": [
      "\u001b[0;31m---------------------------------------------------------------------------\u001b[0m",
      "\u001b[0;31mImportError\u001b[0m                               Traceback (most recent call last)",
      "Cell \u001b[0;32mIn [1], line 6\u001b[0m\n\u001b[1;32m      4\u001b[0m \u001b[39mimport\u001b[39;00m \u001b[39mjax\u001b[39;00m\u001b[39m.\u001b[39;00m\u001b[39mnumpy\u001b[39;00m \u001b[39mas\u001b[39;00m \u001b[39mjnp\u001b[39;00m\n\u001b[1;32m      5\u001b[0m \u001b[39mfrom\u001b[39;00m \u001b[39mjax\u001b[39;00m \u001b[39mimport\u001b[39;00m jit, lax, vmap\n\u001b[0;32m----> 6\u001b[0m \u001b[39mfrom\u001b[39;00m \u001b[39mnumpyro\u001b[39;00m\u001b[39m.\u001b[39;00m\u001b[39mdistributions\u001b[39;00m \u001b[39mimport\u001b[39;00m StudentT\n\u001b[1;32m      8\u001b[0m \u001b[39m@ft\u001b[39m\u001b[39m.\u001b[39mpartial(jit, static_argnames\u001b[39m=\u001b[39m(\u001b[39m'\u001b[39m\u001b[39malternative\u001b[39m\u001b[39m'\u001b[39m, \u001b[39m'\u001b[39m\u001b[39mmu\u001b[39m\u001b[39m'\u001b[39m, \u001b[39m'\u001b[39m\u001b[39mconf_level\u001b[39m\u001b[39m'\u001b[39m))\n\u001b[1;32m      9\u001b[0m \u001b[39mdef\u001b[39;00m \u001b[39m_t_test_single\u001b[39m(x, alternative\u001b[39m=\u001b[39m\u001b[39m\"\u001b[39m\u001b[39mtwo.sided\u001b[39m\u001b[39m\"\u001b[39m, mu\u001b[39m=\u001b[39m\u001b[39m0\u001b[39m, conf_level\u001b[39m=\u001b[39m\u001b[39m0.95\u001b[39m):\n\u001b[1;32m     10\u001b[0m     nx \u001b[39m=\u001b[39m x\u001b[39m.\u001b[39mshape[\u001b[39m0\u001b[39m]\n",
      "File \u001b[0;32m/opt/miniconda3/envs/jax/lib/python3.10/site-packages/numpyro/__init__.py:6\u001b[0m\n\u001b[1;32m      1\u001b[0m \u001b[39m# Copyright Contributors to the Pyro project.\u001b[39;00m\n\u001b[1;32m      2\u001b[0m \u001b[39m# SPDX-License-Identifier: Apache-2.0\u001b[39;00m\n\u001b[1;32m      4\u001b[0m \u001b[39mimport\u001b[39;00m \u001b[39mlogging\u001b[39;00m\n\u001b[0;32m----> 6\u001b[0m \u001b[39mfrom\u001b[39;00m \u001b[39mnumpyro\u001b[39;00m \u001b[39mimport\u001b[39;00m compat, diagnostics, distributions, handlers, infer, ops, optim\n\u001b[1;32m      7\u001b[0m \u001b[39mfrom\u001b[39;00m \u001b[39mnumpyro\u001b[39;00m\u001b[39m.\u001b[39;00m\u001b[39mdistributions\u001b[39;00m\u001b[39m.\u001b[39;00m\u001b[39mdistribution\u001b[39;00m \u001b[39mimport\u001b[39;00m enable_validation, validation_enabled\n\u001b[1;32m      8\u001b[0m \u001b[39mfrom\u001b[39;00m \u001b[39mnumpyro\u001b[39;00m\u001b[39m.\u001b[39;00m\u001b[39minfer\u001b[39;00m\u001b[39m.\u001b[39;00m\u001b[39minspect\u001b[39;00m \u001b[39mimport\u001b[39;00m render_model\n",
      "File \u001b[0;32m/opt/miniconda3/envs/jax/lib/python3.10/site-packages/numpyro/distributions/__init__.py:4\u001b[0m\n\u001b[1;32m      1\u001b[0m \u001b[39m# Copyright Contributors to the Pyro project.\u001b[39;00m\n\u001b[1;32m      2\u001b[0m \u001b[39m# SPDX-License-Identifier: Apache-2.0\u001b[39;00m\n\u001b[0;32m----> 4\u001b[0m \u001b[39mfrom\u001b[39;00m \u001b[39mnumpyro\u001b[39;00m\u001b[39m.\u001b[39;00m\u001b[39mdistributions\u001b[39;00m\u001b[39m.\u001b[39;00m\u001b[39mconjugate\u001b[39;00m \u001b[39mimport\u001b[39;00m (\n\u001b[1;32m      5\u001b[0m     BetaBinomial,\n\u001b[1;32m      6\u001b[0m     DirichletMultinomial,\n\u001b[1;32m      7\u001b[0m     GammaPoisson,\n\u001b[1;32m      8\u001b[0m     NegativeBinomial2,\n\u001b[1;32m      9\u001b[0m     NegativeBinomialLogits,\n\u001b[1;32m     10\u001b[0m     NegativeBinomialProbs,\n\u001b[1;32m     11\u001b[0m     ZeroInflatedNegativeBinomial2,\n\u001b[1;32m     12\u001b[0m )\n\u001b[1;32m     13\u001b[0m \u001b[39mfrom\u001b[39;00m \u001b[39mnumpyro\u001b[39;00m\u001b[39m.\u001b[39;00m\u001b[39mdistributions\u001b[39;00m\u001b[39m.\u001b[39;00m\u001b[39mcontinuous\u001b[39;00m \u001b[39mimport\u001b[39;00m (\n\u001b[1;32m     14\u001b[0m     CAR,\n\u001b[1;32m     15\u001b[0m     LKJ,\n\u001b[0;32m   (...)\u001b[0m\n\u001b[1;32m     45\u001b[0m     Weibull,\n\u001b[1;32m     46\u001b[0m )\n\u001b[1;32m     47\u001b[0m \u001b[39mfrom\u001b[39;00m \u001b[39mnumpyro\u001b[39;00m\u001b[39m.\u001b[39;00m\u001b[39mdistributions\u001b[39;00m\u001b[39m.\u001b[39;00m\u001b[39mdirectional\u001b[39;00m \u001b[39mimport\u001b[39;00m (\n\u001b[1;32m     48\u001b[0m     ProjectedNormal,\n\u001b[1;32m     49\u001b[0m     SineBivariateVonMises,\n\u001b[1;32m     50\u001b[0m     SineSkewed,\n\u001b[1;32m     51\u001b[0m     VonMises,\n\u001b[1;32m     52\u001b[0m )\n",
      "File \u001b[0;32m/opt/miniconda3/envs/jax/lib/python3.10/site-packages/numpyro/distributions/conjugate.py:9\u001b[0m\n\u001b[1;32m      6\u001b[0m \u001b[39mfrom\u001b[39;00m \u001b[39mjax\u001b[39;00m\u001b[39m.\u001b[39;00m\u001b[39mscipy\u001b[39;00m\u001b[39m.\u001b[39;00m\u001b[39mspecial\u001b[39;00m \u001b[39mimport\u001b[39;00m betainc, betaln, gammaln\n\u001b[1;32m      8\u001b[0m \u001b[39mfrom\u001b[39;00m \u001b[39mnumpyro\u001b[39;00m\u001b[39m.\u001b[39;00m\u001b[39mdistributions\u001b[39;00m \u001b[39mimport\u001b[39;00m constraints\n\u001b[0;32m----> 9\u001b[0m \u001b[39mfrom\u001b[39;00m \u001b[39mnumpyro\u001b[39;00m\u001b[39m.\u001b[39;00m\u001b[39mdistributions\u001b[39;00m\u001b[39m.\u001b[39;00m\u001b[39mcontinuous\u001b[39;00m \u001b[39mimport\u001b[39;00m Beta, Dirichlet, Gamma\n\u001b[1;32m     10\u001b[0m \u001b[39mfrom\u001b[39;00m \u001b[39mnumpyro\u001b[39;00m\u001b[39m.\u001b[39;00m\u001b[39mdistributions\u001b[39;00m\u001b[39m.\u001b[39;00m\u001b[39mdiscrete\u001b[39;00m \u001b[39mimport\u001b[39;00m (\n\u001b[1;32m     11\u001b[0m     BinomialProbs,\n\u001b[1;32m     12\u001b[0m     MultinomialProbs,\n\u001b[1;32m     13\u001b[0m     Poisson,\n\u001b[1;32m     14\u001b[0m     ZeroInflatedDistribution,\n\u001b[1;32m     15\u001b[0m )\n\u001b[1;32m     16\u001b[0m \u001b[39mfrom\u001b[39;00m \u001b[39mnumpyro\u001b[39;00m\u001b[39m.\u001b[39;00m\u001b[39mdistributions\u001b[39;00m\u001b[39m.\u001b[39;00m\u001b[39mdistribution\u001b[39;00m \u001b[39mimport\u001b[39;00m Distribution\n",
      "File \u001b[0;32m/opt/miniconda3/envs/jax/lib/python3.10/site-packages/numpyro/distributions/continuous.py:59\u001b[0m\n\u001b[1;32m     51\u001b[0m \u001b[39mfrom\u001b[39;00m \u001b[39mnumpyro\u001b[39;00m\u001b[39m.\u001b[39;00m\u001b[39mdistributions\u001b[39;00m\u001b[39m.\u001b[39;00m\u001b[39mdistribution\u001b[39;00m \u001b[39mimport\u001b[39;00m Distribution, TransformedDistribution\n\u001b[1;32m     52\u001b[0m \u001b[39mfrom\u001b[39;00m \u001b[39mnumpyro\u001b[39;00m\u001b[39m.\u001b[39;00m\u001b[39mdistributions\u001b[39;00m\u001b[39m.\u001b[39;00m\u001b[39mtransforms\u001b[39;00m \u001b[39mimport\u001b[39;00m (\n\u001b[1;32m     53\u001b[0m     AffineTransform,\n\u001b[1;32m     54\u001b[0m     CorrMatrixCholeskyTransform,\n\u001b[0;32m   (...)\u001b[0m\n\u001b[1;32m     57\u001b[0m     SigmoidTransform,\n\u001b[1;32m     58\u001b[0m )\n\u001b[0;32m---> 59\u001b[0m \u001b[39mfrom\u001b[39;00m \u001b[39mnumpyro\u001b[39;00m\u001b[39m.\u001b[39;00m\u001b[39mdistributions\u001b[39;00m\u001b[39m.\u001b[39;00m\u001b[39mutil\u001b[39;00m \u001b[39mimport\u001b[39;00m (\n\u001b[1;32m     60\u001b[0m     betainc,\n\u001b[1;32m     61\u001b[0m     betaincinv,\n\u001b[1;32m     62\u001b[0m     cholesky_of_inverse,\n\u001b[1;32m     63\u001b[0m     gammaincinv,\n\u001b[1;32m     64\u001b[0m     is_prng_key,\n\u001b[1;32m     65\u001b[0m     lazy_property,\n\u001b[1;32m     66\u001b[0m     matrix_to_tril_vec,\n\u001b[1;32m     67\u001b[0m     promote_shapes,\n\u001b[1;32m     68\u001b[0m     signed_stick_breaking_tril,\n\u001b[1;32m     69\u001b[0m     validate_sample,\n\u001b[1;32m     70\u001b[0m     vec_to_tril_matrix,\n\u001b[1;32m     71\u001b[0m )\n\u001b[1;32m     74\u001b[0m \u001b[39mclass\u001b[39;00m \u001b[39mAsymmetricLaplace\u001b[39;00m(Distribution):\n\u001b[1;32m     75\u001b[0m     arg_constraints \u001b[39m=\u001b[39m {\n\u001b[1;32m     76\u001b[0m         \u001b[39m\"\u001b[39m\u001b[39mloc\u001b[39m\u001b[39m\"\u001b[39m: constraints\u001b[39m.\u001b[39mreal,\n\u001b[1;32m     77\u001b[0m         \u001b[39m\"\u001b[39m\u001b[39mscale\u001b[39m\u001b[39m\"\u001b[39m: constraints\u001b[39m.\u001b[39mpositive,\n\u001b[1;32m     78\u001b[0m         \u001b[39m\"\u001b[39m\u001b[39masymmetry\u001b[39m\u001b[39m\"\u001b[39m: constraints\u001b[39m.\u001b[39mpositive,\n\u001b[1;32m     79\u001b[0m     }\n",
      "\u001b[0;31mImportError\u001b[0m: cannot import name 'betainc' from 'numpyro.distributions.util' (/opt/miniconda3/envs/jax/lib/python3.10/site-packages/numpyro/distributions/util.py)"
     ]
    }
   ],
   "source": [
    "import functools as ft\n",
    "\n",
    "import jax\n",
    "import jax.numpy as jnp\n",
    "from jax import jit, lax, vmap\n",
    "from numpyro.distributions import StudentT\n",
    "\n",
    "@ft.partial(jit, static_argnames=('alternative', 'mu', 'conf_level'))\n",
    "def _t_test_single(x, alternative=\"two.sided\", mu=0, conf_level=0.95):\n",
    "    nx = x.shape[0]\n",
    "    mx = jnp.mean(x, axis=-1)\n",
    "    vx = jnp.var(x, axis=-1)\n",
    "\n",
    "    df = nx - 1\n",
    "    stderr = jnp.sqrt(vx/nx)\n",
    "\n",
    "    t_stat = (mx - mu) / stderr\n",
    "\n",
    "    t_dist = StudentT(df=df, loc=0, scale=1)\n",
    "\n",
    "    pval = 2 * t_dist.cdf(-jnp.abs(t_stat))\n",
    "\n",
    "    alpha = 1. - conf_level\n",
    "\n",
    "    conf_int  = t_dist.icdf(1 - alpha / 2)\n",
    "\n",
    "    conf_int = jnp.array([-conf_int, conf_int]) + t_stat\n",
    "\n",
    "    conf_int = conf_int * stderr + mu\n",
    "\n",
    "\n",
    "    return t_stat, pval, conf_int"
   ]
  },
  {
   "cell_type": "code",
   "execution_count": 14,
   "metadata": {},
   "outputs": [],
   "source": [
    "X = jnp.array([0.3, 0.4, -0.2, 0.04, 0.07, -0.8, 0.5])"
   ]
  },
  {
   "cell_type": "code",
   "execution_count": 15,
   "metadata": {},
   "outputs": [
    {
     "ename": "NotImplementedError",
     "evalue": "",
     "output_type": "error",
     "traceback": [
      "\u001b[0;31m---------------------------------------------------------------------------\u001b[0m",
      "\u001b[0;31mNotImplementedError\u001b[0m                       Traceback (most recent call last)",
      "Cell \u001b[0;32mIn [15], line 1\u001b[0m\n\u001b[0;32m----> 1\u001b[0m _t_test_single(X)\n",
      "    \u001b[0;31m[... skipping hidden 14 frame]\u001b[0m\n",
      "Cell \u001b[0;32mIn [13], line 25\u001b[0m, in \u001b[0;36m_t_test_single\u001b[0;34m(x, alternative, mu, conf_level)\u001b[0m\n\u001b[1;32m     21\u001b[0m pval \u001b[39m=\u001b[39m \u001b[39m2\u001b[39m \u001b[39m*\u001b[39m t_dist\u001b[39m.\u001b[39mcdf(\u001b[39m-\u001b[39mjnp\u001b[39m.\u001b[39mabs(t_stat))\n\u001b[1;32m     23\u001b[0m alpha \u001b[39m=\u001b[39m \u001b[39m1.\u001b[39m \u001b[39m-\u001b[39m conf_level\n\u001b[0;32m---> 25\u001b[0m conf_int  \u001b[39m=\u001b[39m t_dist\u001b[39m.\u001b[39;49micdf(\u001b[39m1\u001b[39;49m \u001b[39m-\u001b[39;49m alpha \u001b[39m/\u001b[39;49m \u001b[39m2\u001b[39;49m)\n\u001b[1;32m     27\u001b[0m conf_int \u001b[39m=\u001b[39m jnp\u001b[39m.\u001b[39marray([\u001b[39m-\u001b[39mconf_int, conf_int]) \u001b[39m+\u001b[39m t_stat\n\u001b[1;32m     29\u001b[0m conf_int \u001b[39m=\u001b[39m conf_int \u001b[39m*\u001b[39m stderr \u001b[39m+\u001b[39m mu\n",
      "File \u001b[0;32m/opt/miniconda3/envs/jax/lib/python3.10/site-packages/numpyro/distributions/continuous.py:1929\u001b[0m, in \u001b[0;36mStudentT.icdf\u001b[0;34m(self, q)\u001b[0m\n\u001b[1;32m   1926\u001b[0m \u001b[39mdef\u001b[39;00m \u001b[39micdf\u001b[39m(\u001b[39mself\u001b[39m, q):\n\u001b[1;32m   1927\u001b[0m     \u001b[39m# scipy.special.betaincinv is not avaiable yet in JAX\u001b[39;00m\n\u001b[1;32m   1928\u001b[0m     \u001b[39m# upstream issue: https://github.com/google/jax/issues/2399\u001b[39;00m\n\u001b[0;32m-> 1929\u001b[0m     \u001b[39mraise\u001b[39;00m \u001b[39mNotImplementedError\u001b[39;00m\n",
      "\u001b[0;31mNotImplementedError\u001b[0m: "
     ]
    }
   ],
   "source": [
    "_t_test_single(X)"
   ]
  },
  {
   "cell_type": "code",
   "execution_count": 2,
   "metadata": {},
   "outputs": [],
   "source": [
    "import functools as ft\n",
    "\n",
    "import jax.numpy as jnp\n",
    "from jax import jit, vmap\n",
    "from jax.scipy.special import betainc\n",
    "from tensorflow_probability.substrates.jax.math import special as tfp_special\n",
    "\n",
    "def pt(x, df, loc=0., scale=1.):\n",
    "    p = vmap(_pt, in_axes=(0, None, None, None))(x, df, loc, scale)\n",
    "    return p\n",
    "\n",
    "@ft.partial(jit, static_argnames=(\"loc\", \"scale\",))\n",
    "def _pt(x, df, loc=0., scale=1.):\n",
    "\n",
    "    scaled = (x - loc) / scale\n",
    "    scaled_squared = scaled * scaled\n",
    "    beta_value = df / (df + scaled_squared)\n",
    "\n",
    "    # when scaled < 0, returns 0.5 * Beta(df/2, 0.5).cdf(beta_value)\n",
    "    # when scaled > 0, returns 1 - 0.5 * Beta(df/2, 0.5).cdf(beta_value)\n",
    "    return 0.5 * (\n",
    "        1\n",
    "        + jnp.sign(scaled)\n",
    "        - jnp.sign(scaled) * betainc(0.5 * df, 0.5, beta_value)\n",
    "    )"
   ]
  },
  {
   "cell_type": "code",
   "execution_count": 11,
   "metadata": {},
   "outputs": [],
   "source": [
    "x = jnp.array([0., 0., 0.])"
   ]
  },
  {
   "cell_type": "code",
   "execution_count": 15,
   "metadata": {},
   "outputs": [
    {
     "name": "stdout",
     "output_type": "stream",
     "text": [
      "344 µs ± 38.3 µs per loop (mean ± std. dev. of 3 runs, 10 loops each)\n"
     ]
    }
   ],
   "source": [
    "%timeit -n10 -r3 pt(x, 2).block_until_ready()"
   ]
  },
  {
   "cell_type": "code",
   "execution_count": 3,
   "metadata": {},
   "outputs": [],
   "source": [
    "def qt(q, df, loc=0., scale=1.):\n",
    "    q = vmap(_qt, in_axes=(0, None, None, None))(q, df, loc, scale)\n",
    "    return q\n",
    "\n",
    "@ft.partial(jit, static_argnames=(\"loc\", \"scale\",))\n",
    "def _qt(q, df, loc=0., scale=1.):\n",
    "    beta_value = tfp_special.betaincinv(0.5 * df, 0.5, 1 - jnp.abs(1 - 2 * q))\n",
    "    scaled_squared = df * (1 / beta_value - 1)\n",
    "    scaled = jnp.sign(q - 0.5) * jnp.sqrt(scaled_squared)\n",
    "    return scaled * scale + loc"
   ]
  },
  {
   "cell_type": "code",
   "execution_count": 19,
   "metadata": {},
   "outputs": [],
   "source": [
    "x = jnp.array([0.5, 0.5, 0.5])"
   ]
  },
  {
   "cell_type": "code",
   "execution_count": 21,
   "metadata": {},
   "outputs": [
    {
     "name": "stdout",
     "output_type": "stream",
     "text": [
      "358 µs ± 116 µs per loop (mean ± std. dev. of 3 runs, 10 loops each)\n"
     ]
    }
   ],
   "source": [
    "%timeit -n10 -r3 qt(x, 2).block_until_ready()"
   ]
  },
  {
   "cell_type": "code",
   "execution_count": 15,
   "metadata": {},
   "outputs": [],
   "source": [
    "@ft.partial(jit, static_argnames=('alternative', 'mu', 'conf_level',))\n",
    "def _t_test_single(x, alternative=\"two.sided\", mu=0, conf_level=0.95):\n",
    "    nx = x.shape[0]\n",
    "    mx = jnp.mean(x, axis=-1, keepdims=True)\n",
    "    vx = jnp.var(x, axis=-1, keepdims=True)\n",
    "\n",
    "    df = nx - 1\n",
    "    stderr = jnp.sqrt(vx/nx)\n",
    "    t_stat = (mx - mu) / stderr\n",
    "    pval = 2 * pt(-jnp.abs(t_stat), df)\n",
    "    alpha = jnp.array([1. - conf_level], dtype=x.dtype)\n",
    "    conf_int  = qt(1 - alpha / 2, df)\n",
    "    conf_int = jnp.array([-conf_int, conf_int]) + t_stat\n",
    "    conf_int = conf_int * stderr + mu\n",
    "\n",
    "    return t_stat, pval, conf_int"
   ]
  },
  {
   "cell_type": "code",
   "execution_count": 20,
   "metadata": {},
   "outputs": [],
   "source": [
    "x = jnp.zeros((100, ))"
   ]
  },
  {
   "cell_type": "code",
   "execution_count": 11,
   "metadata": {},
   "outputs": [
    {
     "data": {
      "text/plain": [
       "DeviceArray([0.01857143], dtype=float32)"
      ]
     },
     "execution_count": 11,
     "metadata": {},
     "output_type": "execute_result"
    }
   ],
   "source": [
    "jnp.mean(x, keepdims=True)"
   ]
  },
  {
   "cell_type": "code",
   "execution_count": 28,
   "metadata": {},
   "outputs": [
    {
     "name": "stdout",
     "output_type": "stream",
     "text": [
      "The slowest run took 7.01 times longer than the fastest. This could mean that an intermediate result is being cached.\n",
      "34 µs ± 32 µs per loop (mean ± std. dev. of 3 runs, 10 loops each)\n"
     ]
    }
   ],
   "source": [
    "%timeit -n10 -r3 _t_test_single(x)"
   ]
  },
  {
   "cell_type": "code",
   "execution_count": 1,
   "metadata": {},
   "outputs": [],
   "source": [
    "import jax.random as jrand\n",
    "import jax.numpy as jnp"
   ]
  },
  {
   "cell_type": "code",
   "execution_count": 2,
   "metadata": {},
   "outputs": [],
   "source": [
    "key = jrand.PRNGKey(0)"
   ]
  },
  {
   "cell_type": "code",
   "execution_count": 3,
   "metadata": {},
   "outputs": [],
   "source": [
    "shape = (1000, )\n",
    "rg = jrand.gamma(key, 1.5, shape)"
   ]
  },
  {
   "cell_type": "code",
   "execution_count": 4,
   "metadata": {},
   "outputs": [
    {
     "data": {
      "text/plain": [
       "DeviceArray(1.5262381, dtype=float32)"
      ]
     },
     "execution_count": 4,
     "metadata": {},
     "output_type": "execute_result"
    }
   ],
   "source": [
    "jnp.mean(rg)"
   ]
  }
 ],
 "metadata": {
  "kernelspec": {
   "display_name": "Python 3.10.4 ('jax')",
   "language": "python",
   "name": "python3"
  },
  "language_info": {
   "codemirror_mode": {
    "name": "ipython",
    "version": 3
   },
   "file_extension": ".py",
   "mimetype": "text/x-python",
   "name": "python",
   "nbconvert_exporter": "python",
   "pygments_lexer": "ipython3",
   "version": "3.10.4"
  },
  "orig_nbformat": 4,
  "vscode": {
   "interpreter": {
    "hash": "a2c665fbd5f95b4b64cbe21597f07e9f3c92fb5d50ee72a44a582f43dea1d555"
   }
  }
 },
 "nbformat": 4,
 "nbformat_minor": 2
}
