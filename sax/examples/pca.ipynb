{
 "cells": [
  {
   "cell_type": "code",
   "execution_count": 1,
   "metadata": {},
   "outputs": [],
   "source": [
    "from math import log, sqrt\n",
    "import functools as ft\n",
    "\n",
    "import jax\n",
    "import jax.numpy as jnp\n",
    "import jax.random as jrand\n",
    "import jax.scipy as jsp\n",
    "import tensorflow_probability.substrates.jax.distributions as jd\n",
    "from jax import lax, jit, vmap\n",
    "\n",
    "\n",
    "@ft.partial(jit, static_argnums=1)\n",
    "def _pca(x, n_components):\n",
    "    n_samples, n_features = x.shape\n",
    "\n",
    "    mean = jnp.mean(x, axis=0)\n",
    "\n",
    "    # Center data\n",
    "    x_centered = x - mean\n",
    "\n",
    "    U, S, Vt = jsp.linalg.svd(x_centered, full_matrices=False)\n",
    "\n",
    "    components = Vt\n",
    "\n",
    "    explained_variance = (S**2) / (n_samples - 1)\n",
    "    total_var = explained_variance.sum()\n",
    "    explained_variance_ratio = explained_variance / total_var\n",
    "    singular_values = S\n",
    "\n",
    "    return U, S, Vt, components[:n_components], explained_variance[:n_components], explained_variance_ratio[:n_components], singular_values[:n_components]"
   ]
  },
  {
   "cell_type": "code",
   "execution_count": 2,
   "metadata": {},
   "outputs": [],
   "source": [
    "import numpy as np\n",
    "X = np.array([[-1, -1], [-2, -1], [-3, -2], [1, 1], [2, 1], [3, 2]])"
   ]
  },
  {
   "cell_type": "code",
   "execution_count": 3,
   "metadata": {},
   "outputs": [
    {
     "data": {
      "text/plain": [
       "(DeviceArray([[-0.21956691,  0.53397   ],\n",
       "              [-0.35264796, -0.45713517],\n",
       "              [-0.57221484,  0.07683427],\n",
       "              [ 0.2195669 , -0.5339696 ],\n",
       "              [ 0.35264796,  0.4571353 ],\n",
       "              [ 0.57221484, -0.07683427]], dtype=float32),\n",
       " DeviceArray([6.3006124, 0.5498041], dtype=float32),\n",
       " DeviceArray([[ 0.8384922,  0.5449136],\n",
       "              [ 0.5449136, -0.8384922]], dtype=float32),\n",
       " DeviceArray([[ 0.8384922,  0.5449136],\n",
       "              [ 0.5449136, -0.8384922]], dtype=float32),\n",
       " DeviceArray([7.9395432 , 0.06045691], dtype=float32),\n",
       " DeviceArray([0.9924429 , 0.00755711], dtype=float32),\n",
       " DeviceArray([6.3006124, 0.5498041], dtype=float32))"
      ]
     },
     "execution_count": 3,
     "metadata": {},
     "output_type": "execute_result"
    }
   ],
   "source": [
    "_pca(X, 2)"
   ]
  },
  {
   "cell_type": "code",
   "execution_count": 4,
   "metadata": {},
   "outputs": [
    {
     "name": "stdout",
     "output_type": "stream",
     "text": [
      "The slowest run took 10.85 times longer than the fastest. This could mean that an intermediate result is being cached.\n",
      "38.3 µs ± 41.2 µs per loop (mean ± std. dev. of 3 runs, 10 loops each)\n"
     ]
    }
   ],
   "source": [
    "%timeit -n10 -r3 _pca(X, 2)"
   ]
  },
  {
   "cell_type": "code",
   "execution_count": 5,
   "metadata": {},
   "outputs": [],
   "source": [
    "from sklearn.decomposition import PCA"
   ]
  },
  {
   "cell_type": "code",
   "execution_count": 6,
   "metadata": {},
   "outputs": [],
   "source": [
    "pca = PCA(n_components=2)"
   ]
  },
  {
   "cell_type": "code",
   "execution_count": 7,
   "metadata": {},
   "outputs": [
    {
     "name": "stdout",
     "output_type": "stream",
     "text": [
      "The slowest run took 8.63 times longer than the fastest. This could mean that an intermediate result is being cached.\n",
      "277 µs ± 241 µs per loop (mean ± std. dev. of 3 runs, 10 loops each)\n"
     ]
    }
   ],
   "source": [
    "%timeit -n10 -r3 pca.fit(X)"
   ]
  }
 ],
 "metadata": {
  "kernelspec": {
   "display_name": "Python 3.10.4 ('jax')",
   "language": "python",
   "name": "python3"
  },
  "language_info": {
   "codemirror_mode": {
    "name": "ipython",
    "version": 3
   },
   "file_extension": ".py",
   "mimetype": "text/x-python",
   "name": "python",
   "nbconvert_exporter": "python",
   "pygments_lexer": "ipython3",
   "version": "3.10.4"
  },
  "orig_nbformat": 4,
  "vscode": {
   "interpreter": {
    "hash": "a2c665fbd5f95b4b64cbe21597f07e9f3c92fb5d50ee72a44a582f43dea1d555"
   }
  }
 },
 "nbformat": 4,
 "nbformat_minor": 2
}
